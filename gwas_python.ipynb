{
 "cells": [
  {
   "cell_type": "code",
   "execution_count": 2,
   "metadata": {},
   "outputs": [
    {
     "name": "stdout",
     "output_type": "stream",
     "text": [
      "Requirement already satisfied: statsmodels in /opt/anaconda3/envs/gff/lib/python3.7/site-packages (0.11.1)\n",
      "Requirement already satisfied: patsy>=0.5 in /opt/anaconda3/envs/gff/lib/python3.7/site-packages (from statsmodels) (0.5.1)\n",
      "Requirement already satisfied: scipy>=1.0 in /opt/anaconda3/envs/gff/lib/python3.7/site-packages (from statsmodels) (1.5.0)\n",
      "Requirement already satisfied: pandas>=0.21 in /opt/anaconda3/envs/gff/lib/python3.7/site-packages (from statsmodels) (1.0.5)\n",
      "Requirement already satisfied: numpy>=1.14 in /opt/anaconda3/envs/gff/lib/python3.7/site-packages (from statsmodels) (1.18.5)\n",
      "Requirement already satisfied: six in /opt/anaconda3/envs/gff/lib/python3.7/site-packages (from patsy>=0.5->statsmodels) (1.15.0)\n",
      "Requirement already satisfied: pytz>=2017.2 in /opt/anaconda3/envs/gff/lib/python3.7/site-packages (from pandas>=0.21->statsmodels) (2020.1)\n",
      "Requirement already satisfied: python-dateutil>=2.6.1 in /opt/anaconda3/envs/gff/lib/python3.7/site-packages (from pandas>=0.21->statsmodels) (2.8.1)\n"
     ]
    }
   ],
   "source": [
    "!pip install statsmodels"
   ]
  },
  {
   "cell_type": "code",
   "execution_count": null,
   "metadata": {},
   "outputs": [],
   "source": []
  },
  {
   "cell_type": "code",
   "execution_count": 4,
   "metadata": {},
   "outputs": [
    {
     "name": "stdout",
     "output_type": "stream",
     "text": [
      "Requirement already satisfied: pandas in /opt/anaconda3/envs/grib/lib/python3.7/site-packages (1.0.4)\n",
      "Collecting sklearn\n",
      "  Downloading sklearn-0.0.post5.tar.gz (3.7 kB)\n",
      "Collecting statsmodels\n",
      "  Downloading statsmodels-0.13.5-cp37-cp37m-macosx_10_9_x86_64.whl (9.6 MB)\n",
      "\u001b[K     |████████████████████████████████| 9.6 MB 6.6 MB/s eta 0:00:01\n",
      "\u001b[?25hRequirement already satisfied: openpyxl in /opt/anaconda3/envs/grib/lib/python3.7/site-packages (3.1.1)\n",
      "Requirement already satisfied: pytz>=2017.2 in /opt/anaconda3/envs/grib/lib/python3.7/site-packages (from pandas) (2020.1)\n",
      "Requirement already satisfied: numpy>=1.13.3 in /opt/anaconda3/envs/grib/lib/python3.7/site-packages (from pandas) (1.18.5)\n",
      "Requirement already satisfied: python-dateutil>=2.6.1 in /opt/anaconda3/envs/grib/lib/python3.7/site-packages (from pandas) (2.8.1)\n",
      "Collecting patsy>=0.5.2\n",
      "  Downloading patsy-0.5.3-py2.py3-none-any.whl (233 kB)\n",
      "\u001b[K     |████████████████████████████████| 233 kB 11.6 MB/s eta 0:00:01\n",
      "\u001b[?25hCollecting packaging>=21.3\n",
      "  Using cached packaging-23.1-py3-none-any.whl (48 kB)\n",
      "Requirement already satisfied: scipy>=1.3; (python_version > \"3.9\" or platform_system != \"Windows\" or platform_machine != \"x86\") and python_version < \"3.12\" in /opt/anaconda3/envs/grib/lib/python3.7/site-packages (from statsmodels) (1.7.3)\n",
      "Requirement already satisfied: et-xmlfile in /opt/anaconda3/envs/grib/lib/python3.7/site-packages (from openpyxl) (1.1.0)\n",
      "Requirement already satisfied: six>=1.5 in /opt/anaconda3/envs/grib/lib/python3.7/site-packages (from python-dateutil>=2.6.1->pandas) (1.15.0)\n",
      "Building wheels for collected packages: sklearn\n",
      "\u001b[33m  WARNING: Building wheel for sklearn failed: [Errno 13] Permission denied: '/Users/hqin/Library/Caches/pip/wheels/d7'\u001b[0m\n",
      "Failed to build sklearn\n",
      "Installing collected packages: sklearn, patsy, packaging, statsmodels\n",
      "    Running setup.py install for sklearn ... \u001b[?25ldone\n",
      "\u001b[?25h  Attempting uninstall: packaging\n",
      "    Found existing installation: packaging 20.4\n",
      "    Uninstalling packaging-20.4:\n",
      "      Successfully uninstalled packaging-20.4\n",
      "Successfully installed packaging-23.1 patsy-0.5.3 sklearn-0.0.post5 statsmodels-0.13.5\n"
     ]
    }
   ],
   "source": [
    "# install necessary packages\n",
    "import sys\n",
    "!{sys.executable} -m pip install pandas sklearn statsmodels openpyxl"
   ]
  },
  {
   "cell_type": "code",
   "execution_count": null,
   "metadata": {},
   "outputs": [],
   "source": []
  },
  {
   "cell_type": "code",
   "execution_count": null,
   "metadata": {},
   "outputs": [],
   "source": [
    "# import necessary libraries\n",
    "import pandas as pd\n",
    "from sklearn.linear_model import LogisticRegression\n",
    "import statsmodels.api as sm\n",
    "\n",
    "# load the data\n",
    "#df = pd.read_excel(\"genotypes_and_phenotypes.xlsx\")\n",
    "df = pd.read_excel(\"genotypes_and_phenotypes.xlsx\", engine='openpyxl')\n",
    "\n",
    "# convert genotypes to numeric\n",
    "df = df.applymap(lambda x: 0 if x == 'AA' else 1 if x == 'AT' else 2)\n",
    "\n",
    "# separate the phenotypes\n",
    "phenotypes = df['phenotype']\n",
    "del df['phenotype']\n",
    "\n",
    "# perform logistic regression for each SNP\n",
    "pvalues = []\n",
    "for snp in df.columns:\n",
    "    model = sm.Logit(phenotypes, sm.add_constant(df[snp]))\n",
    "    result = model.fit(disp=0)\n",
    "    pvalues.append(result.pvalues[1])\n",
    "\n",
    "# print the p-values\n",
    "print(pvalues)\n"
   ]
  },
  {
   "cell_type": "code",
   "execution_count": null,
   "metadata": {},
   "outputs": [],
   "source": []
  }
 ],
 "metadata": {
  "kernelspec": {
   "display_name": "Python 3",
   "language": "python",
   "name": "python3"
  },
  "language_info": {
   "codemirror_mode": {
    "name": "ipython",
    "version": 3
   },
   "file_extension": ".py",
   "mimetype": "text/x-python",
   "name": "python",
   "nbconvert_exporter": "python",
   "pygments_lexer": "ipython3",
   "version": "3.7.7"
  }
 },
 "nbformat": 4,
 "nbformat_minor": 4
}
